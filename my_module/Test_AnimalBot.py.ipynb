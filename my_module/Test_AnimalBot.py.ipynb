{
 "cells": [
  {
   "cell_type": "code",
   "execution_count": 95,
   "metadata": {},
   "outputs": [
    {
     "name": "stdout",
     "output_type": "stream",
     "text": [
      "The autoreload extension is already loaded. To reload it, use:\n",
      "  %reload_ext autoreload\n"
     ]
    }
   ],
   "source": [
    "%load_ext autoreload\n",
    "%autoreload 2"
   ]
  },
  {
   "cell_type": "code",
   "execution_count": 96,
   "metadata": {},
   "outputs": [],
   "source": [
    "from my_module.AnimalBot_functions import *"
   ]
  },
  {
   "cell_type": "code",
   "execution_count": null,
   "metadata": {},
   "outputs": [],
   "source": []
  },
  {
   "cell_type": "code",
   "execution_count": 97,
   "metadata": {},
   "outputs": [],
   "source": [
    "def test_list_to_string():\n",
    "    \"\"\"Tests list_to_string function in few cases\"\"\"\n",
    "    assert callable(list_to_string)\n",
    "    assert isinstance(list_to_string(['a', 'b'], '|'), str)\n",
    "    assert list_to_string(['a', 'b'], '|') == 'a|b'\n",
    "    assert callable(list_to_string)"
   ]
  },
  {
   "cell_type": "code",
   "execution_count": 98,
   "metadata": {},
   "outputs": [],
   "source": [
    "test_list_to_string()"
   ]
  },
  {
   "cell_type": "code",
   "execution_count": 99,
   "metadata": {},
   "outputs": [],
   "source": [
    "def test_string_concatenator():\n",
    "    \"\"\"Tests string_concatenator function in few cases\"\"\"\n",
    "    assert string_concatenator('hi','Sarah',',') == \"hi,Sarah\"\n",
    "    assert isinstance(string_concatenator('hi','Sarah',','),str)\n",
    "    assert callable(string_concatenator)"
   ]
  },
  {
   "cell_type": "code",
   "execution_count": 100,
   "metadata": {},
   "outputs": [],
   "source": [
    "test_string_concatenator()"
   ]
  },
  {
   "cell_type": "code",
   "execution_count": null,
   "metadata": {},
   "outputs": [],
   "source": []
  },
  {
   "cell_type": "code",
   "execution_count": 101,
   "metadata": {},
   "outputs": [],
   "source": [
    "def test_prepare_text():\n",
    "    \"\"\"\"Tests prepare_text in few cases\"\"\"\n",
    "assert callable(prepare_text)\n",
    "assert isinstance(prepare_text('One two three.'), list)\n",
    "assert prepare_text('Hi! Also, howdy') == ['hi!', 'also,', 'howdy']"
   ]
  },
  {
   "cell_type": "code",
   "execution_count": 102,
   "metadata": {},
   "outputs": [],
   "source": [
    "test_prepare_text()"
   ]
  },
  {
   "cell_type": "code",
   "execution_count": 103,
   "metadata": {},
   "outputs": [],
   "source": [
    "def test_end_chat():\n",
    "    \"\"\"Tests end_chat function in few cases\"\"\"\n",
    "    assert end_chat(['hi','all']) == False\n",
    "    assert isinstance(end_chat(['hi','all']),bool)\n",
    "    assert callable(end_chat)"
   ]
  },
  {
   "cell_type": "code",
   "execution_count": 104,
   "metadata": {},
   "outputs": [],
   "source": [
    "test_end_chat()"
   ]
  },
  {
   "cell_type": "code",
   "execution_count": 105,
   "metadata": {},
   "outputs": [],
   "source": [
    "def test_is_in_list():\n",
    "    \"\"\"Tests is_in_list function in few cases\"\"\"\n",
    "    assert is_in_list([1,2],[1,2,3,4,5]) == True\n",
    "    assert isinstance(is_in_list([1,2],[1,2,3,4,5]),bool)\n",
    "    assert callable(is_in_list)"
   ]
  },
  {
   "cell_type": "code",
   "execution_count": 106,
   "metadata": {},
   "outputs": [],
   "source": [
    "test_is_in_list()"
   ]
  },
  {
   "cell_type": "code",
   "execution_count": 107,
   "metadata": {},
   "outputs": [],
   "source": [
    "def test_is_List():\n",
    "    \"\"\"\"Tests is_List in few cases\"\"\"\n",
    "    assert isinstance(is_List(['list']),bool)\n",
    "    assert is_List(['a','b'])== False\n",
    "    assert callable(is_List)"
   ]
  },
  {
   "cell_type": "code",
   "execution_count": 108,
   "metadata": {},
   "outputs": [],
   "source": [
    "test_is_List()"
   ]
  },
  {
   "cell_type": "code",
   "execution_count": 109,
   "metadata": {},
   "outputs": [],
   "source": [
    "def test_is_personality():\n",
    "    \"\"\"\"Test is_personality in few cases\"\"\"\n",
    "    assert isinstance(is_personality(['personality']),bool)\n",
    "    assert is_List(['a','b'])== False\n",
    "    assert callable(is_personality)"
   ]
  },
  {
   "cell_type": "code",
   "execution_count": 110,
   "metadata": {},
   "outputs": [],
   "source": [
    "test_is_personality()"
   ]
  },
  {
   "cell_type": "code",
   "execution_count": 111,
   "metadata": {},
   "outputs": [],
   "source": [
    "def test_is_personality_animal():\n",
    "    \"\"\"\"Test is_personality_animal in few cases\"\"\"\n",
    "    assert is_personality_animal('lazy')== False\n",
    "    assert isinstance(is_personality_animal('nope'),bool)"
   ]
  },
  {
   "cell_type": "code",
   "execution_count": 112,
   "metadata": {},
   "outputs": [],
   "source": [
    "test_is_personality_animal()"
   ]
  },
  {
   "cell_type": "code",
   "execution_count": 113,
   "metadata": {},
   "outputs": [],
   "source": [
    "def test_more():\n",
    "    \"\"\"\"Tests more in few cases\"\"\"\n",
    "    assert isinstance(more('a'),bool)\n",
    "    assert more(['yes'])==True"
   ]
  },
  {
   "cell_type": "code",
   "execution_count": 114,
   "metadata": {},
   "outputs": [],
   "source": [
    "test_more()"
   ]
  },
  {
   "cell_type": "code",
   "execution_count": 115,
   "metadata": {},
   "outputs": [],
   "source": [
    "def test_is_species():\n",
    "    \"\"\"\"Tests is_species in few cases\"\"\"\n",
    "    assert isinstance(is_species(['a']),bool)\n",
    "    assert is_species(['species'])==True"
   ]
  },
  {
   "cell_type": "code",
   "execution_count": 116,
   "metadata": {},
   "outputs": [],
   "source": [
    "test_is_species()"
   ]
  },
  {
   "cell_type": "code",
   "execution_count": 117,
   "metadata": {},
   "outputs": [],
   "source": [
    "def test_is_species_animal():\n",
    "    \"\"\"\"Tests is_species_animal in few cases\"\"\"\n",
    "    assert isinstance(is_species_animal(['a']),bool)\n",
    "    assert is_species_animal(['cat'])== True"
   ]
  },
  {
   "cell_type": "code",
   "execution_count": 118,
   "metadata": {},
   "outputs": [],
   "source": [
    "test_is_species_animal()"
   ]
  },
  {
   "cell_type": "code",
   "execution_count": 119,
   "metadata": {},
   "outputs": [],
   "source": [
    "def test_is_role():\n",
    "    \"\"\"\"Tests is_role in few cases\"\"\"\n",
    "    assert isinstance(is_role(['role']),bool)\n",
    "    assert is_role(['a','b'])== False\n",
    "    assert callable(is_role)"
   ]
  },
  {
   "cell_type": "code",
   "execution_count": 120,
   "metadata": {},
   "outputs": [],
   "source": [
    "test_is_role()"
   ]
  },
  {
   "cell_type": "code",
   "execution_count": 121,
   "metadata": {},
   "outputs": [],
   "source": [
    "def test_is_role_animal():\n",
    "    \"\"\"\"Tests is_role_animal in few cases\"\"\"\n",
    "    assert isinstance(is_role_animal(['a']),bool)\n",
    "    assert is_role_animal(['Teddy'])== True"
   ]
  },
  {
   "cell_type": "code",
   "execution_count": 122,
   "metadata": {},
   "outputs": [],
   "source": [
    "test_is_role_animal()"
   ]
  },
  {
   "cell_type": "code",
   "execution_count": 123,
   "metadata": {},
   "outputs": [],
   "source": [
    "def test_species_of_animal():\n",
    "    \"\"\"\"Tests species_of_animal in few cases\"\"\"\n",
    "    assert species_of_animal()=='Alligator, Bear, Bird, Cat, Cub, Dog, Eagle,'\n",
    "    assert callable(species_of_animal)"
   ]
  },
  {
   "cell_type": "code",
   "execution_count": 124,
   "metadata": {},
   "outputs": [],
   "source": [
    "test_species_of_animal()"
   ]
  },
  {
   "cell_type": "code",
   "execution_count": null,
   "metadata": {},
   "outputs": [],
   "source": []
  },
  {
   "cell_type": "code",
   "execution_count": null,
   "metadata": {},
   "outputs": [],
   "source": []
  },
  {
   "cell_type": "code",
   "execution_count": 125,
   "metadata": {},
   "outputs": [],
   "source": [
    "def test_get_personality():\n",
    "    \"\"\"\"Tests get_personality in few cases\"\"\"\n",
    "    assert get_personality(['Teddy'])== 'jock'\n",
    "    assert isinstance(get_personality(['Teddy']),str)"
   ]
  },
  {
   "cell_type": "code",
   "execution_count": 126,
   "metadata": {},
   "outputs": [],
   "source": [
    "test_get_personality()"
   ]
  },
  {
   "cell_type": "code",
   "execution_count": 127,
   "metadata": {},
   "outputs": [],
   "source": [
    "def test_get_Species():\n",
    "     \"\"\"\"Tests get_Species in few cases\"\"\"\n",
    "assert get_Species(['Teddy'])== 'Bear'\n",
    "assert isinstance(get_personality(['Teddy']),str)"
   ]
  },
  {
   "cell_type": "code",
   "execution_count": 128,
   "metadata": {},
   "outputs": [],
   "source": [
    " test_get_Species()"
   ]
  },
  {
   "cell_type": "code",
   "execution_count": 129,
   "metadata": {},
   "outputs": [],
   "source": [
    "def test_get_role_personality():\n",
    "    \"\"\"\"Tests get_role_personality in few cases\"\"\"\n",
    "assert get_role_personality(['jock']) == ''"
   ]
  },
  {
   "cell_type": "code",
   "execution_count": 130,
   "metadata": {},
   "outputs": [],
   "source": [
    "test_get_role_personality()"
   ]
  },
  {
   "cell_type": "code",
   "execution_count": 131,
   "metadata": {},
   "outputs": [],
   "source": [
    "def test_get_role_species():\n",
    "    \"\"\"\"Tests get_role_species in few cases\"\"\"\n",
    "assert get_role_species('Bear')=='Curt, Grizzly, Groucho, Beardo, Charlise, Chow, Nate, Paula, Pinky, Klaus, Teddy, Tutu,'\n",
    "assert isinstance(get_role_species('Bear'),str)"
   ]
  },
  {
   "cell_type": "code",
   "execution_count": 132,
   "metadata": {},
   "outputs": [],
   "source": [
    "test_get_role_species()"
   ]
  },
  {
   "cell_type": "code",
   "execution_count": null,
   "metadata": {},
   "outputs": [],
   "source": []
  },
  {
   "cell_type": "code",
   "execution_count": null,
   "metadata": {},
   "outputs": [],
   "source": []
  }
 ],
 "metadata": {
  "kernelspec": {
   "display_name": "Python 3",
   "language": "python",
   "name": "python3"
  },
  "language_info": {
   "codemirror_mode": {
    "name": "ipython",
    "version": 3
   },
   "file_extension": ".py",
   "mimetype": "text/x-python",
   "name": "python",
   "nbconvert_exporter": "python",
   "pygments_lexer": "ipython3",
   "version": "3.7.6"
  }
 },
 "nbformat": 4,
 "nbformat_minor": 4
}
